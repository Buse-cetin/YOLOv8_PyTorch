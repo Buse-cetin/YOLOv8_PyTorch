{
  "nbformat": 4,
  "nbformat_minor": 0,
  "metadata": {
    "colab": {
      "provenance": [],
      "authorship_tag": "ABX9TyOyVLaj8Do/83M50pyIwWNG",
      "include_colab_link": true
    },
    "kernelspec": {
      "name": "python3",
      "display_name": "Python 3"
    },
    "language_info": {
      "name": "python"
    }
  },
  "cells": [
    {
      "cell_type": "markdown",
      "metadata": {
        "id": "view-in-github",
        "colab_type": "text"
      },
      "source": [
        "<a href=\"https://colab.research.google.com/github/Buse-cetin/YOLOv8_PyTorch/blob/main/Untitled0.ipynb\" target=\"_parent\"><img src=\"https://colab.research.google.com/assets/colab-badge.svg\" alt=\"Open In Colab\"/></a>"
      ]
    },
    {
      "cell_type": "code",
      "execution_count": null,
      "metadata": {
        "id": "BO9jEfF6Azk6"
      },
      "outputs": [],
      "source": [
        "from ultralytics import YOLO\n",
        "import cv2\n",
        "import cvzone\n",
        "import math\n",
        "\n",
        "# For Webcam\n",
        "#cap = cv2.VideoCapture(0)\n",
        "#cap.set(3, 1080)\n",
        "#cap.set(4, 720)\n",
        "\n",
        "# Using Videos\n",
        "cap = cv2.VideoCapture('../q/2.mp4')  # Video dosyasını okumak için VideoCapture sınıfını kullanır\n",
        "\n",
        "model = YOLO(\"../q/best.pt\") # YOLO modelini yükler\n",
        "\n",
        "className = [\"Insan\", \"Kutu\", \"Masa\" #sınıf isimlerini içeren liste\n",
        "             ]\n",
        "\n",
        "while True:\n",
        "    success, img = cap.read()\n",
        "    result = model(img, stream=True)\n",
        "    for r in result:\n",
        "        boxes = r.boxes\n",
        "        for box in boxes:\n",
        "            # Bounding Box\n",
        "            x1, y1, x2, y2 = box.xyxy[0]\n",
        "            x1, y1, x2, y2 = int(x1), int(y1), int(x2), int(y2)\n",
        "            # cv2.rectangle(img, (x1, y1), (x2, y2), (0, 0, 0), 3)\n",
        "\n",
        "            # cvZone\n",
        "            w, h = x2-x1, y2-y1\n",
        "            bbox = x1, y1, w, h\n",
        "            cvzone.cornerRect(img, bbox)\n",
        "            # Confidence\n",
        "            conf = math.ceil((box.conf[0]*100))/100\n",
        "            # Class Name\n",
        "            cls = int(box.cls[0])\n",
        "\n",
        "            #Display Confidence & Class\n",
        "            cvzone.putTextRect(img, f'{className[cls]} {conf}', (max(0, x1+15), max(35, y1-15)), scale= 2, thickness= 2)\n",
        "\n",
        "\n",
        "\n",
        "    cv2.imshow(\"Image\", img)\n",
        "    cv2.waitKey(1)\n",
        "\n",
        "    #pip3 install torch torchvision torchaudio --index-url https://download.pytorch.org/whl/cu118"
      ]
    }
  ]
}